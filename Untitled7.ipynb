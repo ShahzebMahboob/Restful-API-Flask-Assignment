{
 "cells": [
  {
   "cell_type": "markdown",
   "id": "f8951aa7-ed4e-4e64-80c1-afa1badfa8b4",
   "metadata": {},
   "source": [
    "#Theory Questions:-"
   ]
  },
  {
   "cell_type": "code",
   "execution_count": 2,
   "id": "d362ca89-9dce-4fe6-aa49-8f36f7f3f1cf",
   "metadata": {},
   "outputs": [],
   "source": [
    "#Q1. What is a RESTful API\n",
    "#Ans. A RESTful API (Representational State Transfer API) is a web service that follows the principles of REST architecture to allow communication between client and server over the internet using standard HTTP methods."
   ]
  },
  {
   "cell_type": "code",
   "execution_count": 4,
   "id": "3574709d-5d60-448e-95cf-3e0b876f0f92",
   "metadata": {},
   "outputs": [],
   "source": [
    "#Q2. Explain the concept of API specification\n",
    "#Ans. An API specification is a detailed document or blueprint that describes how an API behaves and how clients can interact with it. It defines the rules, structure, and data formats that the API follows, ensuring consistency and clarity for developers."
   ]
  },
  {
   "cell_type": "code",
   "execution_count": 6,
   "id": "e2d218a0-ab45-4b3c-92cb-2cac351544f8",
   "metadata": {},
   "outputs": [],
   "source": [
    "#Q3. What is Flask, and why is it popular for building APIs\n",
    "#Ans. Flask is a lightweight, open-source web framework written in Python. It is designed to make it easy to build web applications and RESTful APIs quickly and with minimal code. Flask is based on the Werkzeug WSGI toolkit and the Jinja2 templating engine.\n",
    "#* Here are the key reasons:\n",
    "# Here are the key reasons:\n",
    "# Easy to Learn and Use\n",
    "# Flexible and Extensible\n",
    "# RESTful API Support\n",
    "# Large Community and Ecosystem"
   ]
  },
  {
   "cell_type": "code",
   "execution_count": 8,
   "id": "7b3156e6-3fbe-41ad-9b9a-7539820cb2ec",
   "metadata": {},
   "outputs": [],
   "source": [
    "#Q4. What is routing in Flask\n",
    "#Ans. Routing in Flask is the process of mapping a URL to a specific function in your application. These functions, called view functions, define what response to send when a user visits a particular URL."
   ]
  },
  {
   "cell_type": "code",
   "execution_count": 10,
   "id": "c6280926-de3c-4819-a2cb-fb026e92b7c8",
   "metadata": {},
   "outputs": [],
   "source": [
    "#Q5. How do you create a simple Flask application\n",
    "#Ans. Steps to Create a Simple Flask Application:\n",
    "# Install Flask- Run: pip install flask\n",
    "\n",
    "# Create a Python file- Example: app.py\n",
    "\n",
    "# Import Flask and Create App Instance\n",
    "# Define a Route\n",
    "# Run the Application\n",
    "# Run in Terminal- Command: python app.py\n",
    "# Open in Browser- Visit: http://127.0.0.1:5000/"
   ]
  },
  {
   "cell_type": "code",
   "execution_count": 12,
   "id": "0e24f6b1-ad6b-43a4-9b84-6cfb5468da5f",
   "metadata": {},
   "outputs": [],
   "source": [
    "#Q6. What are HTTP methods used in RESTful APIs\n",
    "#Ans. HTTP methods in RESTful APIs are standardized commands used to perform operations on resources over the web. They define the type of action a client wants to perform on a server resource, such as retrieving, creating, updating, or deleting data.\n",
    "#  GET – Used to retrieve data from the server without modifying it.\n",
    "# POST – Used to create a new resource on the server.\n",
    "# PUT – Used to completely update or replace an existing resource.\n",
    "# PATCH – Used to partially update an existing resource.\n",
    "# DELETE – Used to remove a resource from the server.\n",
    "# OPTIONS – Used to check the allowed HTTP methods on a particular resource or endpoint."
   ]
  },
  {
   "cell_type": "code",
   "execution_count": 14,
   "id": "39011922-9bdd-4f4f-918a-aed9861e9806",
   "metadata": {},
   "outputs": [],
   "source": [
    "#Q7. What is the purpose of the @app.route() decorator in Flask\n",
    "#Ans. The @app.route() decorator in Flask is used to define a route in a web application. It tells Flask which URL path should trigger a specific view function.\n"
   ]
  },
  {
   "cell_type": "code",
   "execution_count": 16,
   "id": "34d72d73-7ec4-49bf-9c3c-e3727f7838f2",
   "metadata": {},
   "outputs": [],
   "source": [
    "#Q8. What is the difference between GET and POST HTTP methods\n",
    "#Ans. GET Method: GET is an HTTP method used to request data from a specified resource, typically returning data in response without causing any changes on the server.\n",
    "# POST Method: POST is an HTTP method used to submit data to a server to create or update a resource, often resulting in a change on the server."
   ]
  },
  {
   "cell_type": "code",
   "execution_count": 18,
   "id": "ba26037b-6e07-433b-9348-469df56ac030",
   "metadata": {},
   "outputs": [],
   "source": [
    "#9. How do you handle errors in Flask APIs\n",
    "#Ans. Error handling in Flask APIs refers to the process of catching and responding to errors or exceptions that occur during the execution of API requests, in a way that provides meaningful and user-friendly responses instead of raw error messages or server crashes. It helps ensure the API is reliable, secure, and easy to debug by returning appropriate HTTP status codes and error messages."
   ]
  },
  {
   "cell_type": "code",
   "execution_count": 20,
   "id": "8e376dd4-76ef-43c0-a54e-dfc3027211e3",
   "metadata": {},
   "outputs": [],
   "source": [
    "#Q10. How do you connect Flask to a SQL database\n",
    "#Ans. To connect Flask to a SQL database (like MySQL, PostgreSQL, or SQLite), you typically use an ORM (Object Relational Mapper) like SQLAlchemy or Flask-SQLAlchemy.\n",
    "# Install Required Packages- Run: pip install flask flask-sqlalchemy\n",
    "\n",
    "# Import and Initialize- Import Flask and SQLAlchemy- Initialize Flask app and SQLAlchemy object\n",
    "# Configure the Database URI- Example for SQLite:\n",
    "# Create Database Models- Define tables as Python classes using SQLAlchemy\n",
    "# Create Tables- Use:\n",
    "# Insert and Query Data- Use db.session.add() and db.session.query() to interact with the database\n",
    "# Commit Changes- Use db.session.commit() to save changes"
   ]
  },
  {
   "cell_type": "code",
   "execution_count": 22,
   "id": "59fc3a84-51e2-4261-8caa-b04e208d5070",
   "metadata": {},
   "outputs": [],
   "source": [
    "#Q11. What is the role of Flask-SQLAlchemy\n",
    "#Ans. Flask-SQLAlchemy is an extension for Flask that integrates the SQLAlchemy ORM (Object Relational Mapper) with Flask applications. It simplifies database operations by allowing you to work with databases using Python classes and objects instead of writing raw SQL queries."
   ]
  },
  {
   "cell_type": "code",
   "execution_count": 24,
   "id": "2a615d3a-1e0e-4c95-a439-cd5d1d4983c7",
   "metadata": {},
   "outputs": [],
   "source": [
    "#Q12. What are Flask blueprints, and how are they useful\n",
    "#Ans. Flask Blueprints are a way to organize a Flask application into reusable, modular components. They let you break up large applications into smaller parts like routes, templates, and static files that can be grouped logically."
   ]
  },
  {
   "cell_type": "code",
   "execution_count": 26,
   "id": "1136dd9f-6394-4475-ba16-e24e3b4e620b",
   "metadata": {},
   "outputs": [],
   "source": [
    "#Q13. What is the purpose of Flask's request object\n",
    "#Ans. The request object in Flask is used to access incoming request data sent by the client (such as a browser, mobile app, or another server). It is part of the flask module and gives you access to HTTP request content like form data, query parameters, headers, cookies, and JSON.\n"
   ]
  },
  {
   "cell_type": "code",
   "execution_count": 28,
   "id": "fed35ed2-5f82-4aaa-a827-d989d9e05070",
   "metadata": {},
   "outputs": [
    {
     "ename": "SyntaxError",
     "evalue": "invalid syntax (654330298.py, line 12)",
     "output_type": "error",
     "traceback": [
      "\u001b[1;36m  Cell \u001b[1;32mIn[28], line 12\u001b[1;36m\u001b[0m\n\u001b[1;33m    Visit http://localhost:5000/api/greet?name=Alice\u001b[0m\n\u001b[1;37m          ^\u001b[0m\n\u001b[1;31mSyntaxError\u001b[0m\u001b[1;31m:\u001b[0m invalid syntax\n"
     ]
    }
   ],
   "source": [
    "#Q14. How do you create a RESTful API endpoint using Flask\n",
    "#Ans.  Steps to Create a RESTful API Endpoint in Flask:\n",
    "# 🔹 Install Flask- Run pip install flask in your terminal.\n",
    "\n",
    "# 🔹 Import Flask Modules- Use:\n",
    "# 🔹 Initialize the Flask App\n",
    "#  🔹 Define the API Route with HTTP Method\n",
    "# 🔹 Access Request Data (e.g., Query Parameters)\n",
    "#  🔹 Return JSON Response\n",
    "#  🔹 Run the Flask App  \n",
    "# 🔹 Test the Endpoint\n",
    "Visit http://localhost:5000/api/greet?name=Alice"
   ]
  },
  {
   "cell_type": "code",
   "execution_count": 30,
   "id": "d9d830f5-91b2-46d4-b14b-fcb72c64e8e1",
   "metadata": {},
   "outputs": [],
   "source": [
    "#Q15. What is the purpose of Flask's jsonify() function\n",
    "#Ans. jsonify() in Flask converts Python objects into a JSON-formatted HTTP response, setting the correct content type (application/json).\n",
    "# 🔹 Converts Python dicts/lists to JSON format\n",
    "\n",
    "# 🔹 Automatically sets the Content-Type header to application/json\n",
    "\n",
    "# 🔹 Simplifies creating API responses in Flask\n",
    "\n",
    "# 🔹 Ensures the response is properly formatted and encoded\n",
    "\n",
    "# 🔹 Returns a Response object suitable for use in RESTful APIs"
   ]
  },
  {
   "cell_type": "code",
   "execution_count": 32,
   "id": "b39f40ae-a57c-44e9-8de7-8771cf73b865",
   "metadata": {},
   "outputs": [],
   "source": [
    "#Q16. Explain Flask’s url_for() function\n",
    "#Ans. url_for() generates dynamic URLs for view functions based on their names and arguments, making your app more flexible and maintainable.\n",
    "# 🔹 Generates URLs dynamically based on the function name\n",
    "\n",
    "# 🔹 Avoids hardcoding URL paths in templates and Python code\n",
    "\n",
    "# 🔹 Keeps URLs automatically updated if routes change\n",
    "\n",
    "# 🔹 Supports query string arguments (?key=value)\n",
    "\n",
    "# 🔹 Often used in HTML templates and redirects\n",
    "\n"
   ]
  },
  {
   "cell_type": "code",
   "execution_count": 34,
   "id": "1042a4aa-b68a-49ca-a06f-17f155ab6ced",
   "metadata": {},
   "outputs": [],
   "source": [
    "#Q17. How does Flask handle static files (CSS, JavaScript, etc.)\n",
    "#Ans. Flask automatically serves static files placed in the static/ folder and makes them accessible via the /static/ URL path.\n",
    "# 🔹 Place static files in a folder named static/\n",
    "\n",
    "# 🔹 Flask serves these files from the URL prefix /static/\n",
    "\n",
    "# 🔹 Use url_for('static', filename='style.css') to generate paths to static files\n",
    "\n",
    "# 🔹 Used commonly in HTML templates to include CSS, JS, images, etc.\n",
    "\n",
    "# 🔹 Flask handles static file routing automatically without extra configuration"
   ]
  },
  {
   "cell_type": "code",
   "execution_count": 36,
   "id": "52219623-dd7d-4cf7-9cd0-fea41004e58a",
   "metadata": {},
   "outputs": [],
   "source": [
    "#Q18. What is an API specification, and how does it help in building a Flask API\n",
    "#Ans. An API specification is a blueprint that describes the structure and behavior of an API, detailing how clients should interact with it.\n",
    "# 🔹 Defines the structure and behavior of an API\n",
    "\n",
    "# 🔹 Lists all endpoints and their URL paths\n",
    "\n",
    "# 🔹 Specifies allowed HTTP methods (GET, POST, PUT, DELETE)\n",
    "\n",
    "# 🔹 Describes request and response formats (e.g., JSON)\n",
    "\n",
    "# 🔹 Includes parameters, status codes, and error messages\n",
    "\n",
    "# 🔹 Helps frontend and backend teams collaborate"
   ]
  },
  {
   "cell_type": "code",
   "execution_count": 86,
   "id": "4e7fa860-f3c8-44b4-9fcc-7881917a79d1",
   "metadata": {},
   "outputs": [],
   "source": [
    "#Q19. What are HTTP status codes, and why are they important in a Flask API\n",
    "#Ans. HTTP status codes are standardized 3-digit numbers sent by a server in response to a client's HTTP request. They indicate the result of the request — whether it was successful, failed, redirected, or caused an error.\n",
    "# 🔹 Standard 3-digit codes used in HTTP responses\n",
    "\n",
    "# 🔹 Indicate the result of a client’s request to the server\n",
    "\n",
    "# 🔹 Help clients understand if a request was successful or failed\n",
    "\n",
    "# 🔹 Commonly used in Flask APIs to send appropriate responses\n",
    "\n",
    "# 🔹 Improve error handling and debugging\n",
    "\n",
    "# 🔹 Essential for REST API consistency and best practices"
   ]
  },
  {
   "cell_type": "code",
   "execution_count": 88,
   "id": "9380c200-f07f-43f4-b4fd-ac61d64da335",
   "metadata": {},
   "outputs": [],
   "source": [
    "#Q20. How do you handle POST requests in Flask.\n",
    "#Ans. A POST request is used to send data from the client to the server, often to create a new record or submit a form.\n",
    "from flask import Flask, request\n",
    "\n",
    "app = Flask(__name__)\n",
    "\n",
    "@app.route('/submit', methods=['POST'])\n",
    "def submit():\n",
    "    name = request.form['name']\n",
    "    return f\"Received name: {name}\"\n"
   ]
  },
  {
   "cell_type": "code",
   "execution_count": 40,
   "id": "4eae7ab8-ee05-475c-a623-c07c8b16ed22",
   "metadata": {},
   "outputs": [
    {
     "ename": "SyntaxError",
     "evalue": "invalid character '’' (U+2019) (2838626142.py, line 15)",
     "output_type": "error",
     "traceback": [
      "\u001b[1;36m  Cell \u001b[1;32mIn[40], line 15\u001b[1;36m\u001b[0m\n\u001b[1;33m    Ensure users can only access resources they’re allowed to.\u001b[0m\n\u001b[1;37m                                               ^\u001b[0m\n\u001b[1;31mSyntaxError\u001b[0m\u001b[1;31m:\u001b[0m invalid character '’' (U+2019)\n"
     ]
    }
   ],
   "source": [
    "#Q21. How would you secure a Flask API\n",
    "#Ans. Securing a Flask API is essential to protect data, users, and backend logic from unauthorized access, misuse, or attacks. Here's how you can do it effectively:\n",
    "# 🔹 Use HTTPS\n",
    "\n",
    "Encrypt all communication using SSL/TLS.\n",
    "\n",
    "# 🔹 Implement Authentication\n",
    "\n",
    "Use token-based auth (e.g. JWT), API keys, or OAuth.\n",
    "\n",
    "Example: Require a valid token in headers to access endpoints.\n",
    "\n",
    "# 🔹 Use Authorization (Access Control)\n",
    "\n",
    "Ensure users can only access resources they’re allowed to.\n",
    "\n",
    "Example: Admin-only routes, user-specific data access.\n",
    "\n",
    "# 🔹 Validate Input Data\n",
    "\n",
    "Sanitize and validate all incoming data to prevent SQL Injection or XSS.\n",
    "\n",
    "Use libraries like marshmallow, WTForms, or custom validation.\n",
    "\n",
    "# 🔹 Protect Against CSRF (Cross-Site Request Forgery)\n",
    "\n",
    "Use Flask-WTF or tokens for forms if you're serving HTML.\n",
    "\n",
    "# 🔹 Rate Limiting\n",
    "\n",
    "Prevent abuse by limiting the number of requests using tools like Flask-Limiter."
   ]
  },
  {
   "cell_type": "code",
   "execution_count": 42,
   "id": "50caac42-69c8-4305-95df-848b76f4f540",
   "metadata": {},
   "outputs": [
    {
     "ename": "SyntaxError",
     "evalue": "invalid syntax (2392258416.py, line 5)",
     "output_type": "error",
     "traceback": [
      "\u001b[1;36m  Cell \u001b[1;32mIn[42], line 5\u001b[1;36m\u001b[0m\n\u001b[1;33m    Reduces boilerplate code when building REST APIs.\u001b[0m\n\u001b[1;37m            ^\u001b[0m\n\u001b[1;31mSyntaxError\u001b[0m\u001b[1;31m:\u001b[0m invalid syntax\n"
     ]
    }
   ],
   "source": [
    "#Q22. What is the significance of the Flask-RESTful extension\n",
    "#Ans. Flask-RESTful is a Flask extension that helps you quickly build REST APIs using class-based views and automatic request parsing.\n",
    "# 🔹 Simplifies API Development\n",
    "\n",
    "Reduces boilerplate code when building REST APIs.\n",
    "\n",
    "# 🔹 Supports Class-Based Views\n",
    "\n",
    "Lets you define endpoints using Python classes (Resource) instead of functions.\n",
    "\n",
    "# 🔹 Easy HTTP Method Handling\n",
    "\n",
    "Define get(), post(), put(), delete() methods inside each resource class.\n",
    "\n",
    "# 🔹 Automatic Request Parsing\n",
    "\n",
    "Use built-in request parsing (reqparse) to validate input easily.\n",
    "\n",
    "# 🔹 Improves Code Organization\n",
    "\n",
    "Keeps route logic cleaner and modular using resources.\n",
    "\n",
    "# 🔹 Integrates with Flask Routing\n",
    "\n",
    "Uses api.add_resource() to map classes to endpoints."
   ]
  },
  {
   "cell_type": "code",
   "execution_count": 44,
   "id": "5c497ceb-0980-4cee-8fe4-d3da1db4d38e",
   "metadata": {},
   "outputs": [],
   "source": [
    "#Q23. What is the role of Flask’s session object?\n",
    "#Ans. Flask’s session object is used to store data across requests for a specific user — typically for things like login sessions, user preferences, or temporary values.\n",
    "#  Key Roles and Uses:\n",
    "# 🔹 Stores user-specific data across multiple requests (e.g., login status)\n",
    "\n",
    "# 🔹 Data is stored on the client-side in a secure cookie\n",
    "\n",
    "# 🔹 Uses a secret key to encrypt and sign session cookies (app.secret_key)\n",
    "\n",
    "# 🔹 Useful for authentication, shopping carts, user settings, etc.\n",
    "\n",
    "# 🔹 Works like a Python dictionary\n",
    "\n",
    "# 🔹 Automatically managed by Flask — no need for server-side storage"
   ]
  },
  {
   "cell_type": "markdown",
   "id": "5e46b24b-c265-401a-936c-53b4b17bff90",
   "metadata": {},
   "source": [
    "## Practical Questions:-"
   ]
  },
  {
   "cell_type": "code",
   "execution_count": 47,
   "id": "f9d31857-6966-4db6-bd36-8e6719c89ca0",
   "metadata": {},
   "outputs": [
    {
     "ename": "SyntaxError",
     "evalue": "invalid syntax (827405820.py, line 3)",
     "output_type": "error",
     "traceback": [
      "\u001b[1;36m  Cell \u001b[1;32mIn[47], line 3\u001b[1;36m\u001b[0m\n\u001b[1;33m    pip install flask\u001b[0m\n\u001b[1;37m        ^\u001b[0m\n\u001b[1;31mSyntaxError\u001b[0m\u001b[1;31m:\u001b[0m invalid syntax\n"
     ]
    }
   ],
   "source": [
    "#Q1. How do you create a basic Flask application?\n",
    "#Ans. Run in terminal:\n",
    "pip install flask\n",
    "from flask import Flask\n",
    "\n",
    "app = Flask(__name__)  # Create Flask app instance\n",
    "\n",
    "@app.route('/')        # Define route\n",
    "def home():\n",
    "    return \"Hello, Flask!\"\n",
    "\n",
    "if __name__ == '__main__':\n",
    "    app.run(debug=True)  # Run the app in debug mode\n"
   ]
  },
  {
   "cell_type": "code",
   "execution_count": 49,
   "id": "f1f049a4-b503-472f-a8ad-9710e4f90981",
   "metadata": {},
   "outputs": [
    {
     "ename": "SyntaxError",
     "evalue": "invalid syntax (2096272669.py, line 1)",
     "output_type": "error",
     "traceback": [
      "\u001b[1;36m  Cell \u001b[1;32mIn[49], line 1\u001b[1;36m\u001b[0m\n\u001b[1;33m    python app.py\u001b[0m\n\u001b[1;37m           ^\u001b[0m\n\u001b[1;31mSyntaxError\u001b[0m\u001b[1;31m:\u001b[0m invalid syntax\n"
     ]
    }
   ],
   "source": [
    "python app.py\n",
    "Hello, Flask!\n"
   ]
  },
  {
   "cell_type": "code",
   "execution_count": 51,
   "id": "65c223dd-6455-490e-8fe9-858ac1430525",
   "metadata": {},
   "outputs": [
    {
     "ename": "SyntaxError",
     "evalue": "invalid character '├' (U+251C) (2287678122.py, line 4)",
     "output_type": "error",
     "traceback": [
      "\u001b[1;36m  Cell \u001b[1;32mIn[51], line 4\u001b[1;36m\u001b[0m\n\u001b[1;33m    ├── app.py\u001b[0m\n\u001b[1;37m    ^\u001b[0m\n\u001b[1;31mSyntaxError\u001b[0m\u001b[1;31m:\u001b[0m invalid character '├' (U+251C)\n"
     ]
    }
   ],
   "source": [
    "#Q2. How do you serve static files like images or CSS in Flask.\n",
    "#Ans. \n",
    "/project\n",
    "├── app.py\n",
    "├── static/\n",
    "│   ├── style.css\n",
    "│   └── logo.png\n",
    "└── templates/\n",
    "\n",
    "<link rel=\"stylesheet\" href=\"{{ url_for('static', filename='style.css') }}\">\n",
    "<img src=\"{{ url_for('static', filename='logo.png') }}\" alt=\"Logo\">\n",
    "<script src=\"{{ url_for('static', filename='script.js') }}\"></script>\n",
    "\n"
   ]
  },
  {
   "cell_type": "code",
   "execution_count": 53,
   "id": "20c49f4e-2e06-47ce-9a37-d03f95f2c187",
   "metadata": {},
   "outputs": [
    {
     "ename": "SyntaxError",
     "evalue": "invalid syntax (633033776.py, line 1)",
     "output_type": "error",
     "traceback": [
      "\u001b[1;36m  Cell \u001b[1;32mIn[53], line 1\u001b[1;36m\u001b[0m\n\u001b[1;33m    http://localhost:5000/static/style.css\u001b[0m\n\u001b[1;37m         ^\u001b[0m\n\u001b[1;31mSyntaxError\u001b[0m\u001b[1;31m:\u001b[0m invalid syntax\n"
     ]
    }
   ],
   "source": [
    "http://localhost:5000/static/style.css\n"
   ]
  },
  {
   "cell_type": "code",
   "execution_count": 55,
   "id": "0d4101e5-c634-494f-854f-8d500813bf6c",
   "metadata": {},
   "outputs": [],
   "source": [
    "#Q3. How do you define different routes with different HTTP methods in Flask.\n",
    "#Ans. In Flask, you can define routes that respond to specific HTTP methods like GET, POST, PUT, or DELETE using the @app.route() decorator with the methods parameter.\n",
    "from flask import Flask, request, jsonify\n",
    "\n",
    "app = Flask(__name__)\n",
    "\n",
    "@app.route('/user', methods=['GET', 'POST'])\n",
    "def user():\n",
    "    if request.method == 'GET':\n",
    "        return jsonify({'message': 'GET request received'})\n",
    "    elif request.method == 'POST':\n",
    "        data = request.get_json()\n",
    "        return jsonify({'message': 'POST request received', 'data': data})\n"
   ]
  },
  {
   "cell_type": "code",
   "execution_count": 57,
   "id": "bd5fe1ae-5bc0-4bf3-b7e1-205c54cc7988",
   "metadata": {},
   "outputs": [],
   "source": [
    "#Q4. How do you render HTML templates in Flask.\n",
    "#Ans. Flask uses the Jinja2 templating engine to render dynamic HTML pages. This allows you to separate your HTML layout from Python code.\n",
    "from flask import Flask, render_template\n",
    "\n",
    "app = Flask(__name__)\n",
    "\n",
    "@app.route('/')\n",
    "def home():\n",
    "    return render_template('index.html')\n"
   ]
  },
  {
   "cell_type": "code",
   "execution_count": 59,
   "id": "a4374cdc-7cb7-4d3b-9afb-e732df39e588",
   "metadata": {},
   "outputs": [
    {
     "ename": "AssertionError",
     "evalue": "View function mapping is overwriting an existing endpoint function: home",
     "output_type": "error",
     "traceback": [
      "\u001b[1;31m---------------------------------------------------------------------------\u001b[0m",
      "\u001b[1;31mAssertionError\u001b[0m                            Traceback (most recent call last)",
      "Cell \u001b[1;32mIn[59], line 7\u001b[0m\n\u001b[0;32m      3\u001b[0m \u001b[38;5;129m@app\u001b[39m\u001b[38;5;241m.\u001b[39mroute(\u001b[38;5;124m'\u001b[39m\u001b[38;5;124m/dashboard\u001b[39m\u001b[38;5;124m'\u001b[39m)\n\u001b[0;32m      4\u001b[0m \u001b[38;5;28;01mdef\u001b[39;00m \u001b[38;5;21mdashboard\u001b[39m():\n\u001b[0;32m      5\u001b[0m     \u001b[38;5;28;01mreturn\u001b[39;00m \u001b[38;5;124m'\u001b[39m\u001b[38;5;124mDashboard Page\u001b[39m\u001b[38;5;124m'\u001b[39m\n\u001b[1;32m----> 7\u001b[0m \u001b[38;5;129m@app\u001b[39m\u001b[38;5;241m.\u001b[39mroute(\u001b[38;5;124m'\u001b[39m\u001b[38;5;124m/\u001b[39m\u001b[38;5;124m'\u001b[39m)\n\u001b[0;32m      8\u001b[0m \u001b[38;5;28;01mdef\u001b[39;00m \u001b[38;5;21mhome\u001b[39m():\n\u001b[0;32m      9\u001b[0m     \u001b[38;5;28;01mreturn\u001b[39;00m redirect(url_for(\u001b[38;5;124m'\u001b[39m\u001b[38;5;124mdashboard\u001b[39m\u001b[38;5;124m'\u001b[39m))\n",
      "File \u001b[1;32mC:\\ProgramData\\anaconda3\\Lib\\site-packages\\flask\\sansio\\scaffold.py:362\u001b[0m, in \u001b[0;36mScaffold.route.<locals>.decorator\u001b[1;34m(f)\u001b[0m\n\u001b[0;32m    360\u001b[0m \u001b[38;5;28;01mdef\u001b[39;00m \u001b[38;5;21mdecorator\u001b[39m(f: T_route) \u001b[38;5;241m-\u001b[39m\u001b[38;5;241m>\u001b[39m T_route:\n\u001b[0;32m    361\u001b[0m     endpoint \u001b[38;5;241m=\u001b[39m options\u001b[38;5;241m.\u001b[39mpop(\u001b[38;5;124m\"\u001b[39m\u001b[38;5;124mendpoint\u001b[39m\u001b[38;5;124m\"\u001b[39m, \u001b[38;5;28;01mNone\u001b[39;00m)\n\u001b[1;32m--> 362\u001b[0m     \u001b[38;5;28mself\u001b[39m\u001b[38;5;241m.\u001b[39madd_url_rule(rule, endpoint, f, \u001b[38;5;241m*\u001b[39m\u001b[38;5;241m*\u001b[39moptions)\n\u001b[0;32m    363\u001b[0m     \u001b[38;5;28;01mreturn\u001b[39;00m f\n",
      "File \u001b[1;32mC:\\ProgramData\\anaconda3\\Lib\\site-packages\\flask\\sansio\\scaffold.py:47\u001b[0m, in \u001b[0;36msetupmethod.<locals>.wrapper_func\u001b[1;34m(self, *args, **kwargs)\u001b[0m\n\u001b[0;32m     45\u001b[0m \u001b[38;5;28;01mdef\u001b[39;00m \u001b[38;5;21mwrapper_func\u001b[39m(\u001b[38;5;28mself\u001b[39m: Scaffold, \u001b[38;5;241m*\u001b[39margs: t\u001b[38;5;241m.\u001b[39mAny, \u001b[38;5;241m*\u001b[39m\u001b[38;5;241m*\u001b[39mkwargs: t\u001b[38;5;241m.\u001b[39mAny) \u001b[38;5;241m-\u001b[39m\u001b[38;5;241m>\u001b[39m t\u001b[38;5;241m.\u001b[39mAny:\n\u001b[0;32m     46\u001b[0m     \u001b[38;5;28mself\u001b[39m\u001b[38;5;241m.\u001b[39m_check_setup_finished(f_name)\n\u001b[1;32m---> 47\u001b[0m     \u001b[38;5;28;01mreturn\u001b[39;00m f(\u001b[38;5;28mself\u001b[39m, \u001b[38;5;241m*\u001b[39margs, \u001b[38;5;241m*\u001b[39m\u001b[38;5;241m*\u001b[39mkwargs)\n",
      "File \u001b[1;32mC:\\ProgramData\\anaconda3\\Lib\\site-packages\\flask\\sansio\\app.py:657\u001b[0m, in \u001b[0;36mApp.add_url_rule\u001b[1;34m(self, rule, endpoint, view_func, provide_automatic_options, **options)\u001b[0m\n\u001b[0;32m    655\u001b[0m old_func \u001b[38;5;241m=\u001b[39m \u001b[38;5;28mself\u001b[39m\u001b[38;5;241m.\u001b[39mview_functions\u001b[38;5;241m.\u001b[39mget(endpoint)\n\u001b[0;32m    656\u001b[0m \u001b[38;5;28;01mif\u001b[39;00m old_func \u001b[38;5;129;01mis\u001b[39;00m \u001b[38;5;129;01mnot\u001b[39;00m \u001b[38;5;28;01mNone\u001b[39;00m \u001b[38;5;129;01mand\u001b[39;00m old_func \u001b[38;5;241m!=\u001b[39m view_func:\n\u001b[1;32m--> 657\u001b[0m     \u001b[38;5;28;01mraise\u001b[39;00m \u001b[38;5;167;01mAssertionError\u001b[39;00m(\n\u001b[0;32m    658\u001b[0m         \u001b[38;5;124m\"\u001b[39m\u001b[38;5;124mView function mapping is overwriting an existing\u001b[39m\u001b[38;5;124m\"\u001b[39m\n\u001b[0;32m    659\u001b[0m         \u001b[38;5;124mf\u001b[39m\u001b[38;5;124m\"\u001b[39m\u001b[38;5;124m endpoint function: \u001b[39m\u001b[38;5;132;01m{\u001b[39;00mendpoint\u001b[38;5;132;01m}\u001b[39;00m\u001b[38;5;124m\"\u001b[39m\n\u001b[0;32m    660\u001b[0m     )\n\u001b[0;32m    661\u001b[0m \u001b[38;5;28mself\u001b[39m\u001b[38;5;241m.\u001b[39mview_functions[endpoint] \u001b[38;5;241m=\u001b[39m view_func\n",
      "\u001b[1;31mAssertionError\u001b[0m: View function mapping is overwriting an existing endpoint function: home"
     ]
    }
   ],
   "source": [
    "#Q5. How can you generate URLs for routes in Flask using url_for\n",
    "#Ans. Flask's url_for() function is used to dynamically generate URLs for routes using the function name, instead of hardcoding the path.\n",
    "@app.route('/dashboard')\n",
    "def dashboard():\n",
    "    return 'Dashboard Page'\n",
    "\n",
    "@app.route('/')\n",
    "def home():\n",
    "    return redirect(url_for('dashboard'))\n"
   ]
  },
  {
   "cell_type": "code",
   "execution_count": 61,
   "id": "2068c1d2-5a89-47b8-8704-fba9e48bc023",
   "metadata": {},
   "outputs": [],
   "source": [
    "#Q6. How do you handle forms in Flask.\n",
    "#Ans. Handling forms in Flask involves rendering an HTML form, collecting user input via POST requests, and processing that data on the server.\n",
    "from flask import Flask, request, render_template\n",
    "\n",
    "app = Flask(__name__)\n",
    "\n",
    "@app.route('/submit', methods=['GET', 'POST'])\n",
    "def submit():\n",
    "    if request.method == 'POST':\n",
    "        username = request.form['username']\n",
    "        return f\"Hello, {username}!\"\n",
    "    return render_template('form.html')\n"
   ]
  },
  {
   "cell_type": "code",
   "execution_count": 63,
   "id": "e4905b78-b887-44a9-ae89-97e8b4ac6dd9",
   "metadata": {},
   "outputs": [],
   "source": [
    "#Q7. How can you validate form data in Flask.\n",
    "#Ans. Validating form data ensures that the information submitted by the user is correct, complete, and safe before it is processed or saved.\n",
    "from flask import Flask, request, render_template\n",
    "\n",
    "app = Flask(__name__)\n",
    "\n",
    "@app.route('/register', methods=['GET', 'POST'])\n",
    "def register():\n",
    "    error = ''\n",
    "    if request.method == 'POST':\n",
    "        username = request.form.get('username')\n",
    "        email = request.form.get('email')\n",
    "\n",
    "        if not username or not email:\n",
    "            error = 'All fields are required.'\n",
    "        elif '@' not in email:\n",
    "            error = 'Invalid email format.'\n",
    "        else:\n",
    "            return f'Registered: {username}, {email}'\n",
    "\n",
    "    return render_template('register.html', error=error)\n"
   ]
  },
  {
   "cell_type": "code",
   "execution_count": 65,
   "id": "d9c4eb5b-2fa5-4675-8868-4be423e54e6a",
   "metadata": {},
   "outputs": [],
   "source": [
    "#Q8. How do you manage sessions in Flask.\n",
    "#Ans. Flask provides a built-in session object to manage user-specific data across multiple requests. It's commonly used to store login states, preferences, and temporary information.\n",
    "from flask import Flask, session, redirect, url_for, request\n",
    "\n",
    "app = Flask(__name__)\n",
    "app.secret_key = 'secret'\n",
    "\n",
    "@app.route('/login', methods=['POST'])\n",
    "def login():\n",
    "    session['user'] = request.form['username']\n",
    "    return redirect(url_for('dashboard'))\n",
    "\n",
    "@app.route('/dashboard')\n",
    "def dashboard():\n",
    "    user = session.get('user')\n",
    "    return f'Welcome, {user}!' if user else 'Please log in.'\n",
    "\n",
    "@app.route('/logout')\n",
    "def logout():\n",
    "    session.pop('user', None)\n",
    "    return 'Logged out'\n"
   ]
  },
  {
   "cell_type": "code",
   "execution_count": 67,
   "id": "8f12bf88-c29a-4c64-b883-ee1663d736ec",
   "metadata": {},
   "outputs": [
    {
     "name": "stdout",
     "output_type": "stream",
     "text": [
      " * Serving Flask app '__main__'\n",
      " * Debug mode: on\n"
     ]
    },
    {
     "name": "stderr",
     "output_type": "stream",
     "text": [
      "WARNING: This is a development server. Do not use it in a production deployment. Use a production WSGI server instead.\n",
      " * Running on http://127.0.0.1:5000\n",
      "Press CTRL+C to quit\n",
      " * Restarting with watchdog (windowsapi)\n"
     ]
    },
    {
     "ename": "SystemExit",
     "evalue": "1",
     "output_type": "error",
     "traceback": [
      "An exception has occurred, use %tb to see the full traceback.\n",
      "\u001b[1;31mSystemExit\u001b[0m\u001b[1;31m:\u001b[0m 1\n"
     ]
    },
    {
     "name": "stderr",
     "output_type": "stream",
     "text": [
      "C:\\ProgramData\\anaconda3\\Lib\\site-packages\\IPython\\core\\interactiveshell.py:3585: UserWarning: To exit: use 'exit', 'quit', or Ctrl-D.\n",
      "  warn(\"To exit: use 'exit', 'quit', or Ctrl-D.\", stacklevel=1)\n"
     ]
    }
   ],
   "source": [
    "#Q9. How do you redirect to a different route in Flask.\n",
    "#Ans. \n",
    "from flask import Flask, redirect, url_for\n",
    "\n",
    "app = Flask(__name__)\n",
    "\n",
    "@app.route('/')\n",
    "def home():\n",
    "    return \"Welcome to the Home Page\"\n",
    "\n",
    "@app.route('/login')\n",
    "def login():\n",
    "    return \"Please log in\"\n",
    "\n",
    "@app.route('/go-login')\n",
    "def go_login():\n",
    "    return redirect(url_for('login'))\n",
    "\n",
    "if __name__ == '__main__':\n",
    "    app.run(debug=True)\n"
   ]
  },
  {
   "cell_type": "code",
   "execution_count": 69,
   "id": "ac27b9c1-8bdd-44b1-a73c-3f670ecb2aaa",
   "metadata": {},
   "outputs": [],
   "source": [
    "#Q10. How do you handle errors in Flask (e.g., 404).\n",
    "#Ans. Flask allows you to define custom error handlers for common HTTP error codes such as 404 (Not Found), 500 (Internal Server Error), etc. This improves the user experience and helps with debugging.\n",
    "from flask import Flask, render_template\n",
    "\n",
    "app = Flask(__name__)\n",
    "\n",
    "@app.errorhandler(404)\n",
    "def page_not_found(error):\n",
    "    return \"Oops! Page not found (404)\", 404\n"
   ]
  },
  {
   "cell_type": "code",
   "execution_count": 71,
   "id": "c3760126-6654-4325-804f-1ed1e9bb7b83",
   "metadata": {},
   "outputs": [
    {
     "ename": "ModuleNotFoundError",
     "evalue": "No module named 'auth'",
     "output_type": "error",
     "traceback": [
      "\u001b[1;31m---------------------------------------------------------------------------\u001b[0m",
      "\u001b[1;31mModuleNotFoundError\u001b[0m                       Traceback (most recent call last)",
      "Cell \u001b[1;32mIn[71], line 4\u001b[0m\n\u001b[0;32m      1\u001b[0m \u001b[38;5;66;03m#Q11. How do you structure a Flask app using Blueprints.\u001b[39;00m\n\u001b[0;32m      2\u001b[0m \u001b[38;5;66;03m#Ans. A Blueprint in Flask is a way to organize your application into modular components. It lets you group routes, templates, and static files together for better scalability and maintainability.\u001b[39;00m\n\u001b[0;32m      3\u001b[0m \u001b[38;5;28;01mfrom\u001b[39;00m \u001b[38;5;21;01mflask\u001b[39;00m \u001b[38;5;28;01mimport\u001b[39;00m Flask\n\u001b[1;32m----> 4\u001b[0m \u001b[38;5;28;01mfrom\u001b[39;00m \u001b[38;5;21;01mauth\u001b[39;00m\u001b[38;5;21;01m.\u001b[39;00m\u001b[38;5;21;01mroutes\u001b[39;00m \u001b[38;5;28;01mimport\u001b[39;00m auth_bp\n\u001b[0;32m      6\u001b[0m app \u001b[38;5;241m=\u001b[39m Flask(\u001b[38;5;18m__name__\u001b[39m)\n\u001b[0;32m      7\u001b[0m app\u001b[38;5;241m.\u001b[39mregister_blueprint(auth_bp, url_prefix\u001b[38;5;241m=\u001b[39m\u001b[38;5;124m'\u001b[39m\u001b[38;5;124m/auth\u001b[39m\u001b[38;5;124m'\u001b[39m)\n",
      "\u001b[1;31mModuleNotFoundError\u001b[0m: No module named 'auth'"
     ]
    }
   ],
   "source": [
    "#Q11. How do you structure a Flask app using Blueprints.\n",
    "#Ans. A Blueprint in Flask is a way to organize your application into modular components. It lets you group routes, templates, and static files together for better scalability and maintainability.\n",
    "from flask import Flask\n",
    "from auth.routes import auth_bp\n",
    "\n",
    "app = Flask(__name__)\n",
    "app.register_blueprint(auth_bp, url_prefix='/auth')\n",
    "\n",
    "@app.route('/')\n",
    "def home():\n",
    "    return \"Home Page\"\n",
    "\n",
    "if __name__ == '__main__':\n",
    "    app.run(debug=True)\n"
   ]
  },
  {
   "cell_type": "code",
   "execution_count": 73,
   "id": "eb357cdb-e639-43d4-9f0c-292e53ef85fe",
   "metadata": {},
   "outputs": [
    {
     "ename": "SyntaxError",
     "evalue": "invalid syntax (1817014679.py, line 18)",
     "output_type": "error",
     "traceback": [
      "\u001b[1;36m  Cell \u001b[1;32mIn[73], line 18\u001b[1;36m\u001b[0m\n\u001b[1;33m    <h1>Hello, {{ name|reverse }}!</h1>\u001b[0m\n\u001b[1;37m    ^\u001b[0m\n\u001b[1;31mSyntaxError\u001b[0m\u001b[1;31m:\u001b[0m invalid syntax\n"
     ]
    }
   ],
   "source": [
    "#Q12. How do you define a custom Jinja filter in Flask.\n",
    "#Ans. In Flask, you can create custom Jinja filters to apply special formatting or transformations to data inside your templates.\n",
    "from flask import Flask, render_template\n",
    "\n",
    "app = Flask(__name__)\n",
    "\n",
    "# Define the filter function\n",
    "def reverse_string(s):\n",
    "    return s[::-1]\n",
    "\n",
    "# Register the filter\n",
    "app.add_template_filter(reverse_string, name='reverse')\n",
    "\n",
    "@app.route('/')\n",
    "def home():\n",
    "    return render_template('index.html', name=\"Flask\")\n",
    "\n",
    "<h1>Hello, {{ name|reverse }}!</h1>\n",
    "\n",
    "Hello, ksalF!\n"
   ]
  },
  {
   "cell_type": "code",
   "execution_count": 75,
   "id": "3c9b40ea-b2bd-4cfc-a269-8fe25c853235",
   "metadata": {},
   "outputs": [],
   "source": [
    "#Q13. How can you redirect with query parameters in Flask.\n",
    "#Ans. In Flask, you can redirect a user to another route and include query parameters (like ?name=Alice) using the redirect() and url_for() functions together.\n",
    "from flask import Flask, redirect, url_for, request\n",
    "\n",
    "app = Flask(__name__)\n",
    "\n",
    "@app.route('/')\n",
    "def home():\n",
    "    # Redirect to /welcome?name=Alice\n",
    "    return redirect(url_for('welcome', name='Alice'))\n",
    "\n",
    "@app.route('/welcome')\n",
    "def welcome():\n",
    "    name = request.args.get('name')\n",
    "    return f\"Welcome, {name}!\"\n"
   ]
  },
  {
   "cell_type": "code",
   "execution_count": 77,
   "id": "3eaeb842-cf65-4749-a371-6668e7d4e9cc",
   "metadata": {},
   "outputs": [],
   "source": [
    "#Q14. How do you return JSON responses in Flask.\n",
    "#Ans. Flask makes it easy to return JSON responses, which are commonly used in REST APIs to exchange data between the client and server.\n",
    "from flask import Flask, jsonify\n",
    "\n",
    "app = Flask(__name__)\n",
    "\n",
    "@app.route('/api/user')\n",
    "def get_user():\n",
    "    user = {\n",
    "        'id': 1,\n",
    "        'name': 'Alice',\n",
    "        'email': 'alice@example.com'\n",
    "    }\n",
    "    return jsonify(user)\n"
   ]
  },
  {
   "cell_type": "code",
   "execution_count": 81,
   "id": "f2613bf0-9186-40b3-a64f-7963c1b09118",
   "metadata": {},
   "outputs": [],
   "source": [
    "#Q15. How do you capture URL parameters in Flask?\n",
    "#Ans. In Flask, URL parameters (also called route parameters or path variables) let you capture values directly from the URL.\n",
    "from flask import Flask\n",
    "\n",
    "app = Flask(__name__)\n",
    "\n",
    "@app.route('/hello/<name>')\n",
    "def hello(name):\n",
    "    return f\"Hello, {name}!\"\n",
    "\n",
    "\n"
   ]
  },
  {
   "cell_type": "code",
   "execution_count": null,
   "id": "5e964987-7c5a-4bb1-9af2-83d5b478b5f7",
   "metadata": {},
   "outputs": [],
   "source": []
  },
  {
   "cell_type": "code",
   "execution_count": null,
   "id": "c878a85e-3baf-4fee-986b-351ff6c1cf55",
   "metadata": {},
   "outputs": [],
   "source": []
  }
 ],
 "metadata": {
  "kernelspec": {
   "display_name": "Python [conda env:base] *",
   "language": "python",
   "name": "conda-base-py"
  },
  "language_info": {
   "codemirror_mode": {
    "name": "ipython",
    "version": 3
   },
   "file_extension": ".py",
   "mimetype": "text/x-python",
   "name": "python",
   "nbconvert_exporter": "python",
   "pygments_lexer": "ipython3",
   "version": "3.12.7"
  }
 },
 "nbformat": 4,
 "nbformat_minor": 5
}
